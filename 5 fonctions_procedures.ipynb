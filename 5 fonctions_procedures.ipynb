{
 "cells": [
  {
   "cell_type": "markdown",
   "metadata": {},
   "source": [
    "<table width='100%' border='0'>\n",
    "    <tr>\n",
    "        <td><img src='images/ucd.png' width='120'></td>\n",
    "        <td><img src='images/dept_inf.png' width='350'></td>\n",
    "        <td><img src='images/fs.png' width='120'></td>\n",
    "    </tr>\n",
    "</table>"
   ]
  },
  {
   "cell_type": "markdown",
   "metadata": {},
   "source": [
    "# Fonctions et procédures\n",
    "\n",
    "<img src='images/python.png'>\n",
    "\n"
   ]
  },
  {
   "cell_type": "markdown",
   "metadata": {},
   "source": [
    "Une fonction/procédure est un bloc d’instructions nommé permettant de réaliser une tâche donnée."
   ]
  },
  {
   "cell_type": "markdown",
   "metadata": {},
   "source": [
    "Une fonction :\n",
    "<ul>\n",
    "<li>Est un bloc d’instructions nommé\n",
    "<li>Prend (éventuellement) des paramètres en entrée (non typés)\n",
    "<li>Renvoie une valeur en sortie (ou plusieurs valeurs) ou pas de valeurs dans le cas d'une procédure\n",
    "</ul>"
   ]
  },
  {
   "cell_type": "markdown",
   "metadata": {},
   "source": [
    "On créée une fonction/procédure pour plusieurs raisons :\n",
    "<ol>\n",
    "<li>Une meilleure organisation du programme (regrouper les tâches par blocs : une meilleure lisibilité et par suite une maintenance simplifiée)\n",
    "<li>Eviter la redondance\n",
    "<li>Possibilité de partager des fonctions (via des modules)\n",
    "<li>Le programme principal doit être le plus simple possible\n",
    "</ol>"
   ]
  },
  {
   "cell_type": "code",
   "execution_count": 3,
   "metadata": {},
   "outputs": [
    {
     "data": {
      "text/plain": [
       "20"
      ]
     },
     "execution_count": 3,
     "metadata": {},
     "output_type": "execute_result"
    }
   ],
   "source": [
    "def aandb():\n",
    "    a=10\n",
    "    b=20\n",
    "    return a,b\n",
    "x,s = aandb()\n",
    "x\n",
    "s"
   ]
  },
  {
   "cell_type": "markdown",
   "metadata": {},
   "source": [
    "Par exemple :"
   ]
  },
  {
   "cell_type": "code",
   "execution_count": 3,
   "metadata": {},
   "outputs": [
    {
     "name": "stdout",
     "output_type": "stream",
     "text": [
      "40\n",
      "50\n"
     ]
    }
   ],
   "source": [
    "#définition de la fonction\n",
    "def petit(a, b) :\n",
    "    if a<b :\n",
    "        d=a\n",
    "    else:\n",
    "        d=b\n",
    "    return d\n",
    "#appel de la fonction\n",
    "m1=petit(40,120)\n",
    "print (m1)\n",
    "print(petit(100,50))\n"
   ]
  },
  {
   "cell_type": "markdown",
   "metadata": {},
   "source": [
    "<p>\n",
    "<strong>Remarque :</strong>\n",
    "</p>\n",
    "<p>\n",
    "Une fonction peut avoir des paramètres par défaut. Dans ce cas, on peut appeler la fonction sans lui passer de valeurs.\n",
    "</p>"
   ]
  },
  {
   "cell_type": "code",
   "execution_count": 2,
   "metadata": {},
   "outputs": [
    {
     "name": "stdout",
     "output_type": "stream",
     "text": [
      "[10, 20]\n",
      "[50, 100]\n",
      "[50, 120]\n"
     ]
    },
    {
     "ename": "TypeError",
     "evalue": "min_max() missing 1 required positional argument: 'a'",
     "output_type": "error",
     "traceback": [
      "\u001b[1;31m---------------------------------------------------------------------------\u001b[0m",
      "\u001b[1;31mTypeError\u001b[0m                                 Traceback (most recent call last)",
      "\u001b[1;32m<ipython-input-2-6768defea4e4>\u001b[0m in \u001b[0;36m<module>\u001b[1;34m\u001b[0m\n\u001b[0;32m     11\u001b[0m \u001b[0mprint\u001b[0m\u001b[1;33m(\u001b[0m\u001b[0mmin_max\u001b[0m\u001b[1;33m(\u001b[0m\u001b[1;36m100\u001b[0m\u001b[1;33m,\u001b[0m\u001b[1;36m50\u001b[0m\u001b[1;33m)\u001b[0m\u001b[1;33m)\u001b[0m\u001b[1;33m\u001b[0m\u001b[1;33m\u001b[0m\u001b[0m\n\u001b[0;32m     12\u001b[0m \u001b[0mprint\u001b[0m\u001b[1;33m(\u001b[0m\u001b[0mmin_max\u001b[0m\u001b[1;33m(\u001b[0m\u001b[1;36m120\u001b[0m\u001b[1;33m)\u001b[0m\u001b[1;33m)\u001b[0m \u001b[1;31m#équivalent à print(min_max(120,50))\u001b[0m\u001b[1;33m\u001b[0m\u001b[1;33m\u001b[0m\u001b[0m\n\u001b[1;32m---> 13\u001b[1;33m \u001b[0mprint\u001b[0m\u001b[1;33m(\u001b[0m\u001b[0mmin_max\u001b[0m\u001b[1;33m(\u001b[0m\u001b[1;33m)\u001b[0m\u001b[1;33m)\u001b[0m\u001b[1;33m\u001b[0m\u001b[1;33m\u001b[0m\u001b[0m\n\u001b[0m",
      "\u001b[1;31mTypeError\u001b[0m: min_max() missing 1 required positional argument: 'a'"
     ]
    }
   ],
   "source": [
    "#définition de la fonction\n",
    "def min_max(a, b=50) :\n",
    "    if (a<b) :\n",
    "        res=[a, b]\n",
    "    else :\n",
    "        res=[b, a]\n",
    "    return res\n",
    "#appel de la fonction\n",
    "uneListe=min_max(10,20)\n",
    "print (uneListe)\n",
    "print(min_max(100,50))\n",
    "print(min_max(120)) #équivalent à print(min_max(120,50))\n",
    "print(min_max())\n"
   ]
  },
  {
   "cell_type": "markdown",
   "metadata": {},
   "source": [
    "<p><strong>Remarque : </strong></p>\n",
    "<p>\n",
    "Attention, les paramètres avec valeurs par défauts doivent être regroupés en dernière position dans la liste des paramètres.\n",
    "</p>"
   ]
  },
  {
   "cell_type": "markdown",
   "metadata": {},
   "source": [
    "## Exercice 1\n",
    "<p>\n",
    "Ecrire et tester les fonctions suivantes :\n",
    "</p>\n",
    "<ul>\n",
    "<li>Somme(n) : retourne la somme des n premiers entiers\n",
    "<li>Factoriel(n) : retourne le factoriel de n où n un entier positif ou nul\n",
    "<li>Min(liste) : retourne le minimum d’une liste\n",
    "<li>Max(liste) : retourne le maximum d’une liste\n",
    "</ul>"
   ]
  },
  {
   "cell_type": "markdown",
   "metadata": {},
   "source": []
  },
  {
   "cell_type": "markdown",
   "metadata": {},
   "source": []
  },
  {
   "cell_type": "markdown",
   "metadata": {
    "collapsed": true,
    "jupyter": {
     "outputs_hidden": true
    }
   },
   "source": [
    "Exercice 1\n",
    "\n",
    "Écrire une fonction afficher_bonjour() qui ne prend aucun paramètre et affiche \"Bonjour tout le monde !\".\n"
   ]
  },
  {
   "cell_type": "code",
   "execution_count": 2,
   "metadata": {},
   "outputs": [],
   "source": [
    "def afficher_bonjour():\n",
    "    print('Bonjour tout le monde !')\n",
    "    "
   ]
  },
  {
   "cell_type": "code",
   "execution_count": 3,
   "metadata": {},
   "outputs": [
    {
     "name": "stdout",
     "output_type": "stream",
     "text": [
      "Bonjour tout le monde !\n"
     ]
    }
   ],
   "source": [
    "afficher_bonjour()"
   ]
  },
  {
   "cell_type": "markdown",
   "metadata": {},
   "source": [
    "\n",
    "Exercice 2\n",
    "\n",
    "Écrire une fonction carre(n) qui prend un entier en paramètre et renvoie son carré.\n"
   ]
  },
  {
   "cell_type": "code",
   "execution_count": 6,
   "metadata": {},
   "outputs": [
    {
     "name": "stdout",
     "output_type": "stream",
     "text": [
      "25\n"
     ]
    }
   ],
   "source": [
    "def  carre(n):\n",
    "    return n * n \n",
    "a = carre(5)\n",
    "print(a)"
   ]
  },
  {
   "cell_type": "markdown",
   "metadata": {},
   "source": [
    "\n",
    "Exercice 3\n",
    "\n",
    "Écrire une fonction max_deux(a, b) qui prend deux nombres en paramètre et renvoie le plus grand des deux.\n"
   ]
  },
  {
   "cell_type": "code",
   "execution_count": 8,
   "metadata": {},
   "outputs": [
    {
     "data": {
      "text/plain": [
       "50"
      ]
     },
     "execution_count": 8,
     "metadata": {},
     "output_type": "execute_result"
    }
   ],
   "source": [
    "def max_deux(a, b):\n",
    "    if a >b :\n",
    "        return a\n",
    "    else:\n",
    "        return b\n",
    "a=20\n",
    "b=50\n",
    "max = max_deux(a,b)\n",
    "max\n",
    "    "
   ]
  },
  {
   "cell_type": "markdown",
   "metadata": {},
   "source": [
    "Exercice 4\n",
    "\n",
    "Écrire une fonction somme_liste(liste) qui prend une liste d’entiers et renvoie la somme de ses éléments.\n",
    "\n"
   ]
  },
  {
   "cell_type": "code",
   "execution_count": 35,
   "metadata": {},
   "outputs": [
    {
     "name": "stdout",
     "output_type": "stream",
     "text": [
      "120\n",
      "790\n"
     ]
    }
   ],
   "source": [
    "def somme_liste(liste):\n",
    "    s=0\n",
    "    for i in range(len(liste)):\n",
    "        s+=liste[i]\n",
    "    return s\n",
    "\n",
    "\n",
    "\n",
    "list0= [10,50,60]\n",
    "somme = somme_liste(list0)\n",
    "print(somme)\n",
    "list2= [90,80,620]\n",
    "print(somme_liste(list2))\n"
   ]
  },
  {
   "cell_type": "markdown",
   "metadata": {},
   "source": [
    "Exercice 5\n",
    "\n",
    "Écrire une fonction est_pair(n) qui retourne True si le nombre est pair et False sinon.\n"
   ]
  },
  {
   "cell_type": "code",
   "execution_count": 33,
   "metadata": {},
   "outputs": [
    {
     "name": "stdout",
     "output_type": "stream",
     "text": [
      "False\n",
      "True\n",
      "False\n"
     ]
    }
   ],
   "source": [
    "def est_pair(n):\n",
    "    if n%2 == 0:\n",
    "        return True\n",
    "    else:\n",
    "        return False\n",
    "\n",
    "print(est_pair(3)) \n",
    "print(est_pair(40))\n",
    "print(est_pair(23))"
   ]
  },
  {
   "cell_type": "markdown",
   "metadata": {},
   "source": [
    "\n",
    "Exercice 6\n",
    "\n",
    "Écrire une fonction factorielle(n) qui calcule et renvoie la factorielle d’un nombre entier positif n.\n",
    "(Rappel : n! = n × (n-1) × … × 2 × 1, avec 0! = 1)\n"
   ]
  },
  {
   "cell_type": "code",
   "execution_count": 36,
   "metadata": {},
   "outputs": [
    {
     "name": "stdout",
     "output_type": "stream",
     "text": [
      "120\n",
      "720\n",
      "5040\n",
      "40320\n"
     ]
    }
   ],
   "source": [
    "def factorielle(n):\n",
    "    fact = 1\n",
    "    for i in range(1,n+1):\n",
    "        fact *= i\n",
    "    return fact\n",
    "\n",
    "print(factorielle(5))\n",
    "print(factorielle(6))\n",
    "print(factorielle(7))\n",
    "print(factorielle(5))"
   ]
  },
  {
   "cell_type": "markdown",
   "metadata": {},
   "source": [
    "\n",
    "Exercice 7\n",
    "\n",
    "Écrire une fonction inverser_chaine(chaine) qui prend une chaîne en paramètre et renvoie cette chaîne inversée.\n",
    "\n",
    "Exemple : \"python\" → \"nohtyp\""
   ]
  },
  {
   "cell_type": "code",
   "execution_count": 45,
   "metadata": {},
   "outputs": [
    {
     "data": {
      "text/plain": [
       "'nohtyP'"
      ]
     },
     "execution_count": 45,
     "metadata": {},
     "output_type": "execute_result"
    }
   ],
   "source": [
    "def inverser_chaine(chaine):\n",
    "    inverse_chain=\"\"\n",
    "    for i in range(len(chaine)-1,-1,-1):\n",
    "        inverse_chain+=chaine[i]\n",
    "    return inverse_chain\n",
    "\n",
    "\n",
    "ch = \"Python\"\n",
    "new_ch=inverser_chaine(ch)\n",
    "new_ch"
   ]
  },
  {
   "cell_type": "markdown",
   "metadata": {},
   "source": [
    "\n",
    "Exercice 8\n",
    "\n",
    "Écrire une fonction est_palindrome(mot) qui prend un mot en paramètre et retourne True si le mot est un palindrome, False sinon.\n",
    "\n",
    "(Palindrome = mot qui se lit dans les deux sens, ex: \"radar\")\n"
   ]
  },
  {
   "cell_type": "code",
   "execution_count": 24,
   "metadata": {},
   "outputs": [
    {
     "name": "stdout",
     "output_type": "stream",
     "text": [
      "False\n",
      "True\n",
      "True\n"
     ]
    }
   ],
   "source": [
    "def est_palindrome(mot):\n",
    "    inverse = inverser_chaine(mot)\n",
    "    return mot == inverse\n",
    "    \n",
    "ch = \"python\"\n",
    "palindrome=est_palindrome(ch)\n",
    "print(palindrome)\n",
    "ch=\"radar\"\n",
    "palindrome=est_palindrome(ch)\n",
    "print(palindrome)\n",
    "ch=\"level\"\n",
    "palindrome=est_palindrome(ch)\n",
    "print(palindrome)"
   ]
  },
  {
   "cell_type": "markdown",
   "metadata": {},
   "source": [
    "\n",
    "Exercice 9\n",
    "\n",
    "Écrire une fonction moyenne_notes(notes) qui prend une liste de notes (float/int) et renvoie leur moyenne arrondie à deux chiffres après la virgule.\n"
   ]
  },
  {
   "cell_type": "code",
   "execution_count": 25,
   "metadata": {},
   "outputs": [
    {
     "name": "stdout",
     "output_type": "stream",
     "text": [
      "La moyenne est : 13.62\n"
     ]
    }
   ],
   "source": [
    "def moyenne_notes(notes):\n",
    "    somme = 0\n",
    "    for note in notes:\n",
    "        somme += note\n",
    "    moyenne = somme / len(notes)\n",
    "    return moyenne\n",
    "\n",
    "notes = [12.5, 15, 9, 18]\n",
    "moy = moyenne_notes(notes)\n",
    "print(\"La moyenne est : {:.2f}\".format(moy))"
   ]
  },
  {
   "cell_type": "markdown",
   "metadata": {},
   "source": [
    "\n",
    "Exercice 10\n",
    "\n",
    "Écrire une procédure afficher_menu() qui affiche un petit menu de 3 choix :\n",
    "\n",
    "Ajouter\n",
    "\n",
    "Supprimer\n",
    "\n",
    "Quitter\n",
    "\n",
    "(Pas de valeur retournée, juste un affichage)\n"
   ]
  },
  {
   "cell_type": "code",
   "execution_count": 26,
   "metadata": {},
   "outputs": [
    {
     "name": "stdout",
     "output_type": "stream",
     "text": [
      "Ajouter\n",
      "Supprimer\n",
      "Quitter\n"
     ]
    }
   ],
   "source": [
    "def afficher_menu():\n",
    "    print(\"======== MENU ========\")\n",
    "    print(\"Ajouter\")\n",
    "    print(\"Supprimer\")\n",
    "    print(\"Quitter\")\n",
    "    print(\"======== ========\")\n",
    "    \n",
    "\n",
    "afficher_menu()"
   ]
  },
  {
   "cell_type": "markdown",
   "metadata": {},
   "source": [
    "\n",
    "Exercice 11\n",
    "\n",
    "Écrire une fonction compter_voyelles(chaine) qui compte et retourne le nombre de voyelles dans une chaîne.\n",
    "\n",
    "Voyelles = a, e, i, o, u, y\n"
   ]
  },
  {
   "cell_type": "code",
   "execution_count": 48,
   "metadata": {},
   "outputs": [
    {
     "name": "stdout",
     "output_type": "stream",
     "text": [
      "Nombre de voyelles : 3\n"
     ]
    }
   ],
   "source": [
    "def compter_voyelles(chaine):\n",
    "    voyelles = \"aeiouy\"\n",
    "    compteur = 0\n",
    "    for caractere in chaine:\n",
    "        if caractere in voyelles:\n",
    "            compteur += 1\n",
    "    return compteur\n",
    "    \n",
    "def compter_voyelles(chaine):\n",
    "    chaine = chaine.lower()\n",
    "    compteur = 0\n",
    "    \n",
    "    for caractere in chaine:\n",
    "        if caractere == \"a\" or caractere == \"e\" or caractere == \"i\" or caractere == \"o\" or caractere == \"u\" or caractere == \"y\":\n",
    "            compteur += 1\n",
    "    \n",
    "    return compteur\n",
    "texte = \"bonjour\"\n",
    "print(\"Nombre de voyelles :\", compter_voyelles(texte))"
   ]
  },
  {
   "cell_type": "markdown",
   "metadata": {},
   "source": [
    "\n",
    "Exercice 12\n",
    "\n",
    "Écrire une fonction table_multiplication(n) qui affiche la table de multiplication de n.\n",
    "\n",
    "Exemple : table_multiplication(3) → affiche 3×1=3, 3×2=6, …, 3×10=30\n"
   ]
  },
  {
   "cell_type": "code",
   "execution_count": 47,
   "metadata": {},
   "outputs": [
    {
     "name": "stdout",
     "output_type": "stream",
     "text": [
      " 4 x 0 = 0 \n",
      " 4 x 1 = 4 \n",
      " 4 x 2 = 8 \n",
      " 4 x 3 = 12 \n",
      " 4 x 4 = 16 \n",
      " 4 x 5 = 20 \n",
      " 4 x 6 = 24 \n",
      " 4 x 7 = 28 \n",
      " 4 x 8 = 32 \n",
      " 4 x 9 = 36 \n",
      " 4 x 10 = 40 \n"
     ]
    }
   ],
   "source": [
    "def table_multiplication(n):\n",
    "    for i in range(11):\n",
    "        print(\" {0} x {1} = {2} \".format(n,i,(i*n)))\n",
    "table_multiplication(4)"
   ]
  },
  {
   "cell_type": "markdown",
   "metadata": {},
   "source": [
    "\n",
    "Exercice 13\n",
    "\n",
    "Écrire une fonction pgcd(a, b) qui calcule le Plus Grand Commun Diviseur de deux entiers.\n"
   ]
  },
  {
   "cell_type": "code",
   "execution_count": 30,
   "metadata": {},
   "outputs": [
    {
     "name": "stdout",
     "output_type": "stream",
     "text": [
      "Le PGCD est : 12\n"
     ]
    }
   ],
   "source": [
    "def pgcd(a, b):\n",
    "    while b != 0:\n",
    "        reste = a % b\n",
    "        a = b\n",
    "        b = reste\n",
    "    return a\n",
    "\n",
    "\n",
    "x = 24\n",
    "y = 36\n",
    "print(\"Le PGCD est :\", pgcd(x, y))"
   ]
  },
  {
   "cell_type": "markdown",
   "metadata": {},
   "source": [
    "\n",
    "Exercice 14\n",
    "\n",
    "Écrire une fonction convertir_temps(minutes) qui prend un nombre de minutes et retourne l’équivalent en heures et minutes.\n",
    "\n",
    "Exemple : 135 minutes → 2 heures 15 minutes\n"
   ]
  },
  {
   "cell_type": "code",
   "execution_count": 50,
   "metadata": {},
   "outputs": [
    {
     "name": "stdout",
     "output_type": "stream",
     "text": [
      "50 minutes → 0 heures 50 minutes\n"
     ]
    }
   ],
   "source": [
    "def convertir_temps(minutes):\n",
    "    heures = minutes // 60      \n",
    "    reste_minutes = minutes % 60  \n",
    "    return heures, reste_minutes\n",
    "\n",
    "total_minutes = 50\n",
    "h, m = convertir_temps(total_minutes)\n",
    "print(f\"{total_minutes} minutes → {h} heures {m} minutes\")"
   ]
  },
  {
   "cell_type": "markdown",
   "metadata": {},
   "source": [
    "\n",
    "Exercice 15 (petit projet avec fonctions)\n",
    "\n",
    "Créer un programme qui gère une mini-calculatrice avec les fonctions suivantes :\n",
    "\n",
    "addition(a, b)\n",
    "\n",
    "soustraction(a, b)\n",
    "\n",
    "multiplication(a, b)\n",
    "\n",
    "division(a, b)\n",
    "\n",
    "Une fonction menu() pour afficher les choix\n",
    "\n",
    "Une fonction calculatrice() qui fait tourner le programme en appelant les bonnes fonctions"
   ]
  },
  {
   "cell_type": "code",
   "execution_count": 46,
   "metadata": {},
   "outputs": [
    {
     "name": "stdout",
     "output_type": "stream",
     "text": [
      "\n",
      "=== Mini-Calculatrice ===\n",
      "1. Addition\n",
      "2. Soustraction\n",
      "3. Multiplication\n",
      "4. Division\n",
      "5. Quitter\n"
     ]
    },
    {
     "name": "stdin",
     "output_type": "stream",
     "text": [
      "Choisissez une option (1-5) :  3\n",
      "Entrez le premier nombre :  10\n",
      "Entrez le deuxième nombre :  5\n"
     ]
    },
    {
     "name": "stdout",
     "output_type": "stream",
     "text": [
      "Résultat : 50.0\n",
      "\n",
      "=== Mini-Calculatrice ===\n",
      "1. Addition\n",
      "2. Soustraction\n",
      "3. Multiplication\n",
      "4. Division\n",
      "5. Quitter\n"
     ]
    },
    {
     "name": "stdin",
     "output_type": "stream",
     "text": [
      "Choisissez une option (1-5) :  1\n",
      "Entrez le premier nombre :  5\n",
      "Entrez le deuxième nombre :  10\n"
     ]
    },
    {
     "name": "stdout",
     "output_type": "stream",
     "text": [
      "Résultat : 15.0\n",
      "\n",
      "=== Mini-Calculatrice ===\n",
      "1. Addition\n",
      "2. Soustraction\n",
      "3. Multiplication\n",
      "4. Division\n",
      "5. Quitter\n"
     ]
    },
    {
     "name": "stdin",
     "output_type": "stream",
     "text": [
      "Choisissez une option (1-5) :  5\n"
     ]
    },
    {
     "name": "stdout",
     "output_type": "stream",
     "text": [
      "Au revoir !\n"
     ]
    }
   ],
   "source": [
    "# Fonctions de base\n",
    "def addition(a, b):\n",
    "    return a + b\n",
    "\n",
    "def soustraction(a, b):\n",
    "    return a - b\n",
    "\n",
    "def multiplication(a, b):\n",
    "    return a * b\n",
    "\n",
    "def division(a, b):\n",
    "    if b != 0:\n",
    "        return a / b\n",
    "    else:\n",
    "        return \"Erreur : division par zéro\"\n",
    "\n",
    "# Fonction pour afficher le menu\n",
    "def menu():\n",
    "    print(\"\\n=== Mini-Calculatrice ===\")\n",
    "    print(\"1. Addition\")\n",
    "    print(\"2. Soustraction\")\n",
    "    print(\"3. Multiplication\")\n",
    "    print(\"4. Division\")\n",
    "    print(\"5. Quitter\")\n",
    "\n",
    "# Fonction principale de la calculatrice\n",
    "def calculatrice():\n",
    "    while True:\n",
    "        menu()\n",
    "        choix = input(\"Choisissez une option (1-5) : \")\n",
    "\n",
    "        if choix == \"5\":\n",
    "            print(\"Au revoir !\")\n",
    "            break\n",
    "\n",
    "        if choix in [\"1\", \"2\", \"3\", \"4\"]:\n",
    "            a = float(input(\"Entrez le premier nombre : \"))\n",
    "            b = float(input(\"Entrez le deuxième nombre : \"))\n",
    "\n",
    "            if choix == \"1\":\n",
    "                print(\"Résultat :\", addition(a, b))\n",
    "            elif choix == \"2\":\n",
    "                print(\"Résultat :\", soustraction(a, b))\n",
    "            elif choix == \"3\":\n",
    "                print(\"Résultat :\", multiplication(a, b))\n",
    "            elif choix == \"4\":\n",
    "                print(\"Résultat :\", division(a, b))\n",
    "        else:\n",
    "            print(\"Option invalide, réessayez.\")\n",
    "\n",
    "calculatrice()\n"
   ]
  },
  {
   "cell_type": "code",
   "execution_count": null,
   "metadata": {},
   "outputs": [],
   "source": []
  }
 ],
 "metadata": {
  "kernelspec": {
   "display_name": "Python 3 (ipykernel)",
   "language": "python",
   "name": "python3"
  },
  "language_info": {
   "codemirror_mode": {
    "name": "ipython",
    "version": 3
   },
   "file_extension": ".py",
   "mimetype": "text/x-python",
   "name": "python",
   "nbconvert_exporter": "python",
   "pygments_lexer": "ipython3",
   "version": "3.12.7"
  }
 },
 "nbformat": 4,
 "nbformat_minor": 4
}
